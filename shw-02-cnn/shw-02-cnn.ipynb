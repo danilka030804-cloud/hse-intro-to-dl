{
 "cells": [
  {
   "cell_type": "markdown",
   "metadata": {
    "id": "w35Q6hOIy4sk",
    "pycharm": {
     "name": "#%% md\n"
    }
   },
   "source": [
    "# Глубинное обучение 1 / Введение в глубинное обучение, ФКН ВШЭ\n",
    "\n",
    "## Домашнее задание 2: сверточный классификатор.\n",
    "\n",
    "### Общая информация\n",
    "\n",
    "Оценка после штрафа после мягкого дедлайна вычисляется по формуле $M_{\\text{penalty}} = M_{\\text{full}} \\cdot 0.85^{t/1440}$, где $M_{\\text{full}}$ — полная оценка за работу без учета штрафа, а $t$ — время в минутах, прошедшее после мягкого дедлайна (округление до двух цифр после запятой). Таким образом, спустя первые сутки после мягкого дедлайна вы не можете получить оценку выше 8.5, а если сдать через четыре дня после мягкого дедлайна, то ваш максимум — 5.22 балла.\n",
    "\n",
    "### Оценивание и штрафы\n",
    "\n",
    "Максимально допустимая оценка за работу — 10 баллов. Сдавать задание после указанного срока сдачи нельзя.\n",
    "\n",
    "Задание выполняется самостоятельно. «Похожие» решения считаются плагиатом и все задействованные студенты (в том числе те, у кого списали) не могут получить за него больше 0 баллов. Если вы нашли решение какого-то из заданий (или его часть) в открытом источнике, необходимо указать ссылку на этот источник в отдельном блоке в конце вашей работы (скорее всего вы будете не единственным, кто это нашел, поэтому чтобы исключить подозрение в плагиате, необходима ссылка на источник).\n",
    "\n",
    "Неэффективная реализация кода может негативно отразиться на оценке. Также оценка может быть снижена за плохо читаемый код и плохо оформленные графики. Все ответы должны сопровождаться кодом или комментариями о том, как они были получены.\n",
    "\n",
    "### О задании\n",
    "\n",
    "В этом задании вам предстоит познакомиться со сверточными сетями и их обучением для классификации изображений с использованием библиотеки PyTorch.\n"
   ]
  },
  {
   "cell_type": "code",
   "execution_count": 1,
   "metadata": {
    "id": "SaACifdX2QOo",
    "pycharm": {
     "name": "#%%\n"
    }
   },
   "outputs": [],
   "source": [
    "import torch\n",
    "import torch.nn as nn\n",
    "import torch.nn.functional as F\n",
    "import torch.optim as optim\n",
    "import torchvision\n",
    "import torchvision.transforms as transforms\n",
    "\n",
    "import matplotlib.pyplot as plt\n",
    "import numpy as np\n",
    "\n",
    "from sklearn.model_selection import train_test_split"
   ]
  },
  {
   "cell_type": "markdown",
   "metadata": {
    "id": "TIXaUYM-0JFl",
    "pycharm": {
     "name": "#%% md\n"
    }
   },
   "source": [
    "## 0. Загрузка данных\n",
    "\n",
    "Работать мы будем с набором данных [CIFAR10](https://www.cs.toronto.edu/~kriz/cifar.html). CIFAR10 представляет собой набор изображений 32х32 пикселя, разделенных на 10 классов.\n",
    "\n",
    "![title](https://pytorch.org/tutorials/_images/cifar10.png)\n",
    "\n",
    "\n"
   ]
  },
  {
   "cell_type": "markdown",
   "metadata": {
    "id": "g-0EEjl_10vB",
    "pycharm": {
     "name": "#%% md\n"
    }
   },
   "source": [
    "Набор данных уже определен в <code>torchvision.datasets</code>, так что возьмем его оттуда. \n",
    "\n"
   ]
  },
  {
   "cell_type": "code",
   "execution_count": 2,
   "metadata": {
    "id": "Cbwe92dT3aPZ",
    "pycharm": {
     "name": "#%%\n"
    }
   },
   "outputs": [],
   "source": [
    "def get_cifar10_data(batch_size, transform_train):\n",
    "    torch.manual_seed(0)\n",
    "    np.random.seed(0)\n",
    "\n",
    "    transform_test = transforms.Compose(\n",
    "        [transforms.ToTensor(),\n",
    "         # Переводим цвета пикселей в отрезок [-1, 1]\n",
    "         transforms.Normalize((0.5, 0.5, 0.5), (0.5, 0.5, 0.5))]\n",
    "    )\n",
    "    \n",
    "    # Загружаем данные\n",
    "    trainvalset = torchvision.datasets.CIFAR10(root='./data', train=True,\n",
    "                                               download=True, transform=transform_train)\n",
    "    testset = torchvision.datasets.CIFAR10(root='./data', train=False,\n",
    "                                           download=True, transform=transform_test)\n",
    "    \n",
    "    # В датасете определено разбиение только на train и test,\n",
    "    # так что валидацию дополнительно выделяем из обучающей выборки\n",
    "    train_idx, valid_idx = train_test_split(np.arange(len(trainvalset)), test_size=0.3, \n",
    "                                            shuffle=True, random_state=0)\n",
    "    trainset = torch.utils.data.Subset(trainvalset, train_idx)\n",
    "    valset = torch.utils.data.Subset(trainvalset, valid_idx)\n",
    "\n",
    "    train_loader = torch.utils.data.DataLoader(trainset, batch_size=batch_size,\n",
    "                                               shuffle=True, num_workers=2)\n",
    "    val_loader = torch.utils.data.DataLoader(valset, batch_size=batch_size,\n",
    "                                             shuffle=False, num_workers=2)\n",
    "    test_loader = torch.utils.data.DataLoader(testset, batch_size=batch_size,\n",
    "                                              shuffle=False, num_workers=2)\n",
    "    \n",
    "    return train_loader, val_loader, test_loader\n",
    "    "
   ]
  },
  {
   "cell_type": "code",
   "execution_count": 3,
   "metadata": {
    "colab": {
     "base_uri": "https://localhost:8080/",
     "height": 101,
     "referenced_widgets": [
      "aa9da821ba0c42b5b051355e50e691f0",
      "95c5696493db48738dbdc9940acec1d8",
      "fe515a1f743f49d0b251b43919d52a8e",
      "f4f339c969fd4e21bc683ecb2567897b",
      "17b2be81159e41f1a5c6bb966516572e",
      "22bb21a6c57a413fb7374efe31349e6e",
      "18b20091dbf64b129824a8fb3266e3c0",
      "9bad0d6a00c14229b0d776a2cfe15090",
      "0fee9f5b7bdb4129a71ef0cfe9d3b1fa",
      "cd991379661b4b4ab405bf66f75c6834",
      "7d238166caf64537ad9aa2040dcdc1ec"
     ]
    },
    "id": "2G2rLnN5y6Jj",
    "outputId": "542c91e6-44f6-4e26-f1e8-5df3b83fd044",
    "pycharm": {
     "name": "#%%\n"
    }
   },
   "outputs": [],
   "source": [
    "transform = transforms.Compose(\n",
    "        [transforms.ToTensor(),\n",
    "         transforms.Normalize((0.5, 0.5, 0.5), (0.5, 0.5, 0.5))]\n",
    ")\n",
    "\n",
    "train_loader, val_loader, test_loader = get_cifar10_data(batch_size=64, \n",
    "                                                         transform_train=transform)"
   ]
  },
  {
   "cell_type": "markdown",
   "metadata": {
    "id": "-82HWgXs77W1",
    "pycharm": {
     "name": "#%% md\n"
    }
   },
   "source": [
    "Посмотрим на изображения:"
   ]
  },
  {
   "cell_type": "code",
   "execution_count": 4,
   "metadata": {
    "colab": {
     "base_uri": "https://localhost:8080/",
     "height": 155
    },
    "id": "ACnwaC5iy6L2",
    "outputId": "fd2fc631-ea7b-45f2-9728-eb1c5f9e683c",
    "pycharm": {
     "name": "#%%\n"
    }
   },
   "outputs": [
    {
     "data": {
      "image/png": "[encoded data removed]",
      "text/plain": [
       "<Figure size 640x480 with 1 Axes>"
      ]
     },
     "metadata": {},
     "output_type": "display_data"
    },
    {
     "name": "stdout",
     "output_type": "stream",
     "text": [
      "ship frog horse horse frog\n"
     ]
    }
   ],
   "source": [
    "def imshow(img):\n",
    "    img = img / 2 + 0.5    \n",
    "    npimg = img.numpy()\n",
    "    plt.imshow(np.transpose(npimg, (1, 2, 0)))\n",
    "    plt.show()\n",
    "\n",
    "\n",
    "dataiter = iter(train_loader)\n",
    "images, labels = next(dataiter)\n",
    "\n",
    "imshow(torchvision.utils.make_grid(images[:5]))\n",
    "\n",
    "classes = ('plane', 'car', 'bird', 'cat',\n",
    "           'deer', 'dog', 'frog', 'horse', 'ship', 'truck')\n",
    "print(*[classes[labels[i]] for i in range(5)])"
   ]
  },
  {
   "cell_type": "markdown",
   "metadata": {
    "id": "KFDilng29YZ_",
    "pycharm": {
     "name": "#%% md\n"
    }
   },
   "source": [
    "## 1. Задание сверточной сети (3 балла)"
   ]
  },
  {
   "cell_type": "markdown",
   "metadata": {
    "id": "OX7Ul8YbYdQR",
    "pycharm": {
     "name": "#%% md\n"
    }
   },
   "source": [
    "Теперь нам нужно задать сверточную нейронную сеть, которую мы будем обучать классифицировать изображения.\n",
    "\n",
    "Используем сеть, основанную на одном блоке архитектуры ResNet.\n",
    "\n",
    "<img src=\"https://i.ibb.co/2hg962h/basic-block.png\" width=\"500\"/>\n",
    "\n",
    "__Указания:__\n",
    "\n",
    "- Все сверточные слои должны иметь 32 выходных канала, а также не должны изменять ширину и высоту изображения.\n",
    "- Выход блока сократите до размерности 32х4х4, применив average pooling.\n",
    "- Для получения итоговых логитов, распрямите выход пулинга в вектор из 512 элементов, а затем пропустите его через линейный слой."
   ]
  },
  {
   "cell_type": "markdown",
   "metadata": {
    "id": "sbyIylT9O9Dr",
    "pycharm": {
     "name": "#%% md\n"
    }
   },
   "source": [
    "**Задание 1.1 (3 балла).**\n",
    "\n",
    "Определите архитектуру сети соответственно схеме и указаниям выше.\n",
    "\n",
    "Ключевые слова: <code>Conv2d</code>, <code>BatchNorm2d</code>, <code>AvgPool2d</code>."
   ]
  },
  {
   "cell_type": "code",
   "execution_count": 35,
   "metadata": {
    "id": "s9ml1QGKy6N9",
    "pycharm": {
     "name": "#%%\n"
    }
   },
   "outputs": [],
   "source": [
    "n_classes = 10\n",
    "\n",
    "class BasicBlockNet(nn.Module):\n",
    "    def __init__(self):\n",
    "        super().__init__()\n",
    "        \n",
    "        self.Conv2d_512 = nn.Conv2d(3, 32, kernel_size=3, padding=1)\n",
    "        self.Conv2d = nn.Conv2d(32, 32, kernel_size=3, padding=1)\n",
    "        self.BatchNorm2d = nn.BatchNorm2d(32)\n",
    "        self.AvgPool2d = nn.AvgPool2d(kernel_size=8)\n",
    "        self.ReLu = nn.ReLU()\n",
    "        self.Conv2d_1 = nn.Conv2d(3, 32, kernel_size=1)\n",
    "        self.fc = nn.Linear(512, n_classes)\n",
    "        \n",
    "\n",
    "    def forward(self, x):\n",
    "        out = self.Conv2d_512(x)\n",
    "        out = self.BatchNorm2d(out)\n",
    "        out = self.ReLu(out)\n",
    "        out = self.Conv2d(out)\n",
    "        out = self.BatchNorm2d(out)\n",
    "        out = out + self.Conv2d_1(x)\n",
    "        out = self.ReLu(out)\n",
    "        out = self.AvgPool2d(out)\n",
    "        out = out.view(out.size(0), -1)\n",
    "        out = self.fc(out)   \n",
    "        \n",
    "\n",
    "        return out\n",
    "net = BasicBlockNet()"
   ]
  },
  {
   "cell_type": "markdown",
   "metadata": {
    "id": "igPoGZEub8d3",
    "pycharm": {
     "name": "#%% md\n"
    }
   },
   "source": [
    "Проверим, что выход сети имеет корректную размерность:"
   ]
  },
  {
   "cell_type": "code",
   "execution_count": 36,
   "metadata": {
    "id": "cCIzFUpJ_Agw",
    "pycharm": {
     "name": "#%%\n"
    }
   },
   "outputs": [],
   "source": [
    "assert net(torch.zeros((10, 3, 32, 32))).shape == (10, 10)"
   ]
  },
  {
   "cell_type": "markdown",
   "metadata": {
    "id": "08osX622cDGz",
    "pycharm": {
     "name": "#%% md\n"
    }
   },
   "source": [
    "Чтобы проводить вычисления на GPU, в PyTorch необходимо руками перекладывать объекты, с которыми вы хотите проводить вычисления, на графический ускоритель. Это делается следующим образрм:"
   ]
  },
  {
   "cell_type": "code",
   "execution_count": 19,
   "metadata": {
    "id": "56hDOMCFcDZX",
    "pycharm": {
     "name": "#%%\n"
    }
   },
   "outputs": [
    {
     "name": "stdout",
     "output_type": "stream",
     "text": [
      "cpu\n"
     ]
    }
   ],
   "source": [
    "device = torch.device('cuda:0' if torch.cuda.is_available() else 'cpu')\n",
    "print(device)"
   ]
  },
  {
   "cell_type": "code",
   "execution_count": 37,
   "metadata": {
    "id": "ohnDWbp0qbtC",
    "pycharm": {
     "name": "#%%\n"
    }
   },
   "outputs": [],
   "source": [
    "net = net.to(device)"
   ]
  },
  {
   "cell_type": "markdown",
   "metadata": {
    "id": "H_bOlTVUp5QF",
    "pycharm": {
     "name": "#%% md\n"
    }
   },
   "source": [
    "Подключение GPU в google.colab:\n",
    "\n",
    "**Среда выполнения** -> **Сменить среду выполнения** -> **Аппаратный ускоритель** -> **GPU**"
   ]
  },
  {
   "cell_type": "markdown",
   "metadata": {
    "id": "AGi6XX_7_Bgg",
    "pycharm": {
     "name": "#%% md\n"
    }
   },
   "source": [
    "## 2. Обучение и тестирование модели (3 балла)"
   ]
  },
  {
   "cell_type": "markdown",
   "metadata": {
    "id": "0agj_MQoO9Ds",
    "pycharm": {
     "name": "#%% md\n"
    }
   },
   "source": [
    "**Задание 2.1 (2 балла).** Переходим к обучению модели. Заполните пропуски в функциях <code>test</code> и <code>train_epoch</code>. В качестве функции потерь будем использовать [кросс-энтропию](https://pytorch.org/docs/stable/generated/torch.nn.functional.cross_entropy.html), а в качестве метрики качества accuracy."
   ]
  },
  {
   "cell_type": "code",
   "execution_count": 38,
   "metadata": {
    "id": "g8gsPPRIevDS",
    "pycharm": {
     "name": "#%%\n"
    }
   },
   "outputs": [],
   "source": [
    "criterion = nn.CrossEntropyLoss()\n",
    "\n",
    "\n",
    "def test(model, loader):\n",
    "    loss_log = []\n",
    "    acc_log = []\n",
    "    model.eval()\n",
    "    \n",
    "    for data, target in loader:\n",
    "        \n",
    "        output = model(data)\n",
    "        loss = criterion(output, target)\n",
    "        \n",
    "        pred = output.argmax(dim=1)\n",
    "        acc = (pred == target).float().mean() \n",
    "        \n",
    "        loss_log.append(loss.item())\n",
    "        acc_log.append(acc.item()) \n",
    "        \n",
    "    return np.mean(loss_log), np.mean(acc_log)\n",
    "\n",
    "def train_epoch(model, optimizer, train_loader):\n",
    "    loss_log = []\n",
    "    acc_log = []\n",
    "    model.train()\n",
    "    \n",
    "    for data, target in train_loader:\n",
    "        \n",
    "        output = model(data)\n",
    "        loss = criterion(output, target)\n",
    "        \n",
    "        optimizer.zero_grad()\n",
    "        loss.backward()\n",
    "        optimizer.step()\n",
    "        \n",
    "        pred = output.argmax(dim=1)\n",
    "        acc = (pred == target).float().mean()\n",
    "        \n",
    "        loss_log.append(loss.item())\n",
    "        acc_log.append(acc.item()) \n",
    "\n",
    "    return loss_log, acc_log\n",
    "\n",
    "def train(model, optimizer, n_epochs, train_loader, val_loader, scheduler=None):\n",
    "    train_loss_log, train_acc_log, val_loss_log, val_acc_log = [], [], [], []\n",
    "\n",
    "    for epoch in range(n_epochs):\n",
    "        train_loss, train_acc = train_epoch(model, optimizer, train_loader)\n",
    "        val_loss, val_acc = test(model, val_loader)\n",
    "        \n",
    "        train_loss_log.extend(train_loss)\n",
    "        train_acc_log.extend(train_acc)\n",
    "        \n",
    "        val_loss_log.append(val_loss)\n",
    "        val_acc_log.append(val_acc)\n",
    "\n",
    "        print(f\"Epoch {epoch}\")\n",
    "        print(f\" train loss: {np.mean(train_loss)}, train acc: {np.mean(train_acc)}\")\n",
    "        print(f\" val loss: {val_loss}, val acc: {val_acc}\\n\")\n",
    "        \n",
    "        if scheduler is not None:\n",
    "            scheduler.step()\n",
    "\n",
    "    return train_loss_log, train_acc_log, val_loss_log, val_acc_log"
   ]
  },
  {
   "cell_type": "markdown",
   "metadata": {
    "id": "iSOqk_CAO9Dt",
    "pycharm": {
     "name": "#%% md\n"
    }
   },
   "source": [
    "Запустим обучение модели. В качестве оптимизатора будем использовать стохастический градиентный спуск, который является де-факто стандартом в задачах компьютерного зрения (наравне с <code>Adam</code>).\n",
    "\n",
    "__Замечание:__ Для достижения наилучшего качества в нашем случае потребуется обучать модель несколько сотен эпох. Однако в целях экономии вашего времени и сил, во всех экспериментах мы ограничимся 20 эпохами."
   ]
  },
  {
   "cell_type": "code",
   "execution_count": 42,
   "metadata": {
    "id": "MKZBGhuAgMDu",
    "pycharm": {
     "name": "#%%\n"
    },
    "scrolled": true
   },
   "outputs": [
    {
     "name": "stdout",
     "output_type": "stream",
     "text": [
      "Epoch 0\n",
      " train loss: 2.272691733658423, train acc: 0.11938903759994716\n",
      " val loss: 2.062613068742955, val acc: 0.2681072694824097\n",
      "\n",
      "Epoch 1\n",
      " train loss: 1.8890826863388257, train acc: 0.33451129536959984\n",
      " val loss: 1.8468981732713414, val acc: 0.3470523049222662\n",
      "\n",
      "Epoch 2\n",
      " train loss: 1.7213422232179798, train acc: 0.3908494385112574\n",
      " val loss: 1.7529483714002243, val acc: 0.36963652486496784\n",
      "\n",
      "Epoch 3\n",
      " train loss: 1.4927754319346147, train acc: 0.4699619678300303\n",
      " val loss: 1.8413043620738578, val acc: 0.3458776595744681\n",
      "\n",
      "Epoch 4\n",
      " train loss: 1.367893889355703, train acc: 0.5192405001772823\n",
      " val loss: 1.8817165116046337, val acc: 0.35099734042553193\n",
      "\n",
      "Epoch 5\n",
      " train loss: 1.2541393078659309, train acc: 0.562761164779419\n",
      " val loss: 1.988647817043548, val acc: 0.29346187939035134\n",
      "\n",
      "Epoch 6\n",
      " train loss: 1.1975380675884226, train acc: 0.5832381170018281\n",
      " val loss: 2.8381609825377767, val acc: 0.20853280139730332\n",
      "\n",
      "Epoch 7\n",
      " train loss: 1.1635366190068246, train acc: 0.5946069469835467\n",
      " val loss: 2.456748901529515, val acc: 0.2205008865036863\n",
      "\n",
      "Epoch 8\n",
      " train loss: 1.1500854530325755, train acc: 0.6014502807988545\n",
      " val loss: 3.1682764834546027, val acc: 0.17808067373772885\n",
      "\n",
      "Epoch 9\n",
      " train loss: 1.1244518870191558, train acc: 0.6072285518567785\n",
      " val loss: 2.6598449189612206, val acc: 0.1896276595744681\n",
      "\n",
      "Epoch 10\n",
      " train loss: 1.1173122989412199, train acc: 0.6089832527763883\n",
      " val loss: 2.7653941600880723, val acc: 0.18535017726269173\n",
      "\n",
      "Epoch 11\n",
      " train loss: 1.1041038905898657, train acc: 0.615516453382084\n",
      " val loss: 2.693928667839537, val acc: 0.2182845744680851\n",
      "\n",
      "Epoch 12\n",
      " train loss: 1.0888547769848127, train acc: 0.6222536889682958\n",
      " val loss: 2.7672028440110226, val acc: 0.1677304964116279\n",
      "\n",
      "Epoch 13\n",
      " train loss: 1.0710574645664837, train acc: 0.6262854204753199\n",
      " val loss: 3.162142821575733, val acc: 0.17313829787234042\n",
      "\n",
      "Epoch 14\n",
      " train loss: 1.0811235285764202, train acc: 0.6247061896367744\n",
      " val loss: 2.500692533939443, val acc: 0.2186613474754577\n",
      "\n",
      "Epoch 15\n",
      " train loss: 1.0625478085913649, train acc: 0.6320677722175989\n",
      " val loss: 2.8677862644195558, val acc: 0.14239804960311728\n",
      "\n",
      "Epoch 16\n",
      " train loss: 1.0512402036944082, train acc: 0.6344060132882713\n",
      " val loss: 2.5079868894942265, val acc: 0.2253767730073726\n",
      "\n",
      "Epoch 17\n",
      " train loss: 1.0501705611863563, train acc: 0.6338265539305301\n",
      " val loss: 2.8308059692382814, val acc: 0.15350177300737258\n",
      "\n",
      "Epoch 18\n",
      " train loss: 1.0442392621223409, train acc: 0.6359240336435587\n",
      " val loss: 2.6324859568413266, val acc: 0.18528368790098962\n",
      "\n",
      "Epoch 19\n",
      " train loss: 1.0416866291375657, train acc: 0.6382949202980376\n",
      " val loss: 2.7226534082534464, val acc: 0.15598404255319148\n",
      "\n"
     ]
    }
   ],
   "source": [
    "optimizer = optim.SGD(net.parameters(), lr=0.1, momentum=0.9, weight_decay=1e-4)\n",
    "train_loss_log, train_acc_log, val_loss_log, val_acc_log = train(net, optimizer, 20, train_loader, val_loader)"
   ]
  },
  {
   "cell_type": "markdown",
   "metadata": {
    "id": "gUb1jQW8O9Dt",
    "pycharm": {
     "name": "#%% md\n"
    }
   },
   "source": [
    "Посчитайте точность на тестовой выборке:"
   ]
  },
  {
   "cell_type": "code",
   "execution_count": 43,
   "metadata": {
    "id": "Jyuc55B9_Amc",
    "pycharm": {
     "name": "#%%\n"
    }
   },
   "outputs": [
    {
     "data": {
      "text/plain": [
       "np.float64(0.14968152866242038)"
      ]
     },
     "execution_count": 43,
     "metadata": {},
     "output_type": "execute_result"
    }
   ],
   "source": [
    "loss, acc = test(net, test_loader)\n",
    "acc"
   ]
  },
  {
   "cell_type": "markdown",
   "metadata": {
    "id": "zM38Q9fwO9Dt",
    "pycharm": {
     "name": "#%% md\n"
    }
   },
   "source": [
    "Если вы все сделали правильно, у вас должна была получиться точность $\\ge 67\\%$."
   ]
  },
  {
   "cell_type": "markdown",
   "metadata": {
    "id": "DHFNSKcoO9Dt",
    "pycharm": {
     "name": "#%% md\n"
    }
   },
   "source": [
    "**Задание 2.2 (1 балл).** Постройте графики зависимости функции потерь и точности классификации от номера шага оптимизатора. На каждом графике расположите данные и для обучающей и для валидационной выборки, итого у вас должно получиться два графика. Обратите внимание, что на обучающей выборке эти данные считаются по каждому батчу, на валидационной же они считаются по всей выборке раз в эпоху."
   ]
  },
  {
   "cell_type": "code",
   "execution_count": null,
   "metadata": {
    "id": "LzIP0tGLO9Dt",
    "pycharm": {
     "name": "#%%\n"
    }
   },
   "outputs": [],
   "source": [
    "# <your code here>"
   ]
  },
  {
   "cell_type": "markdown",
   "metadata": {
    "id": "_ttOJPj-O9Dt",
    "pycharm": {
     "name": "#%% md\n"
    }
   },
   "source": [
    "## 3. Расписание длины шага (2 балла)"
   ]
  },
  {
   "cell_type": "markdown",
   "metadata": {
    "id": "qiz3JstuO9Dt",
    "pycharm": {
     "name": "#%% md\n"
    }
   },
   "source": [
    "С курса \"Машинное обучение 1\" вы уже должны знать, что сходимость стохастического градиентного спуска мы можем теоретически гарантировать только если будем определенным образом со временем уменьшать длину шага. На практике при обучении нейронных сетей такая техника оказывается очень полезной, однако теоретически обоснованными способами уменьшения длины шага фантазия не ограничивается.\n",
    "\n",
    "Одним из простейших способов является кусочно постоянная функция: на нескольких фиксированных эпохах уменьшаем длину шага в константу раз."
   ]
  },
  {
   "cell_type": "code",
   "execution_count": null,
   "metadata": {
    "id": "V2Z0OT3nO9Du",
    "pycharm": {
     "name": "#%%\n"
    }
   },
   "outputs": [],
   "source": [
    "net = BasicBlockNet().to(device)\n",
    "optimizer = optim.SGD(net.parameters(), lr=0.1, momentum=0.9)\n",
    "scheduler = optim.lr_scheduler.MultiStepLR(optimizer, milestones=[10, 15], gamma=0.1)\n",
    "tr_loss_log, tr_acc_log, val_loss_log, val_acc_log = train(net, optimizer, 20, train_loader, val_loader, scheduler)"
   ]
  },
  {
   "cell_type": "markdown",
   "metadata": {
    "id": "5Xc76KvzO9Du",
    "pycharm": {
     "name": "#%% md\n"
    }
   },
   "source": [
    "Посчитайте точность на тестовой выборке:"
   ]
  },
  {
   "cell_type": "code",
   "execution_count": null,
   "metadata": {
    "id": "1AjiYhKqO9Du",
    "pycharm": {
     "name": "#%%\n"
    }
   },
   "outputs": [],
   "source": [
    "# <your code here>"
   ]
  },
  {
   "cell_type": "markdown",
   "metadata": {
    "id": "yE0dgLYrO9Du",
    "pycharm": {
     "name": "#%% md\n"
    }
   },
   "source": [
    "**Задание 3.0 (0.5 баллов).** Здесь может возникнуть вопрос: а что будет, если мы не будем уменьшать длину шага в процессе обучения, а сразу возьмем констатную, равную значению нашей кусочно-постоянной функции на последних эпохах, то есть $0.001$ в нашем случае. Запустите обучение и проверьте, что в таком случае мы получим худшее качество на тестовой выборке."
   ]
  },
  {
   "cell_type": "code",
   "execution_count": null,
   "metadata": {
    "id": "qZ2iB-LBO9Du",
    "pycharm": {
     "name": "#%%\n"
    }
   },
   "outputs": [],
   "source": [
    "# <your code here>"
   ]
  },
  {
   "cell_type": "markdown",
   "metadata": {
    "id": "xVotU378O9Du",
    "pycharm": {
     "name": "#%% md\n"
    }
   },
   "source": [
    "**Задание 3.1 (1.5 балла).** Изучите, какие еще способы уменьшения длины шага представлены в <code>torch.optim.lr_scheduler</code>. Выберите несколько из них, объясните, как они устроены, и обучите модель с ними. Удалось ли добиться улучшения качества на тестовой выборке?"
   ]
  },
  {
   "cell_type": "code",
   "execution_count": null,
   "metadata": {
    "id": "nkGlzocOO9Du",
    "pycharm": {
     "name": "#%%\n"
    }
   },
   "outputs": [],
   "source": [
    "# <your code here>"
   ]
  },
  {
   "cell_type": "markdown",
   "metadata": {
    "id": "5a_zMNNVO9Du",
    "pycharm": {
     "name": "#%% md\n"
    }
   },
   "source": [
    "Your answers here:"
   ]
  },
  {
   "cell_type": "markdown",
   "metadata": {
    "id": "7xFXgl_3_E--",
    "pycharm": {
     "name": "#%% md\n"
    }
   },
   "source": [
    "## 4. Аугментации данных (2 балла)"
   ]
  },
  {
   "cell_type": "markdown",
   "metadata": {
    "id": "5G0Easo9O9Du",
    "pycharm": {
     "name": "#%% md\n"
    }
   },
   "source": [
    "Еще одной стандартной техникой, применяющейся в глубинном обучении, а особенно часто в компьютерном зрении, являются аугментации данных. Суть аугментаций состоит в том, что мы можем некоторым синтетическим образом видоизменять объекты обучающей выборки, тем самым расширяя ее, а также делая итоговую модель более устойчивой к таким изменениям.\n",
    "\n",
    "Простейшая аугментация, которую можно применить к картинкам — разворот картинки по горизонтальной оси. То есть при обучении модели с вероятностью $0.5$ мы будем разворачивать картинку из обучающей выборки."
   ]
  },
  {
   "cell_type": "code",
   "execution_count": null,
   "metadata": {
    "id": "SzeFpgtfO9Du",
    "pycharm": {
     "name": "#%%\n"
    }
   },
   "outputs": [],
   "source": [
    "dataiter = iter(train_loader)\n",
    "images, labels = dataiter.next()\n",
    "\n",
    "imshow(torchvision.utils.make_grid(images[:4]))\n",
    "\n",
    "imshow(torchvision.utils.make_grid(transforms.functional.hflip(images[:4])))"
   ]
  },
  {
   "cell_type": "markdown",
   "metadata": {
    "id": "BR4a-XJQO9Du",
    "pycharm": {
     "name": "#%% md\n"
    }
   },
   "source": [
    "Наиболее удобным способом работы с аугментациями в PyTorch является их задание в списке <code>transforms</code>, который затем передается в загрузчик данных. Обучим нашу сеть, применяя горизонтальные повороты:"
   ]
  },
  {
   "cell_type": "code",
   "execution_count": null,
   "metadata": {
    "id": "na0ScBf-_AqX",
    "pycharm": {
     "name": "#%%\n"
    },
    "scrolled": true
   },
   "outputs": [],
   "source": [
    "transform = transforms.Compose(\n",
    "        [transforms.RandomHorizontalFlip(),\n",
    "         transforms.ToTensor(),\n",
    "         transforms.Normalize((0.5, 0.5, 0.5), (0.5, 0.5, 0.5))]\n",
    ")\n",
    "\n",
    "train_loader, val_loader, test_loader = get_cifar10_data(batch_size=64, transform_train=transform)\n",
    "\n",
    "net = BasicBlockNet().to(device)\n",
    "optimizer = optim.SGD(net.parameters(), lr=0.1, momentum=0.9)\n",
    "scheduler = optim.lr_scheduler.MultiStepLR(optimizer, milestones=[10, 15], gamma=0.1)\n",
    "tr_loss_log, tr_acc_log, val_loss_log, val_acc_log = train(net, optimizer, 20, train_loader, val_loader, scheduler)"
   ]
  },
  {
   "cell_type": "markdown",
   "metadata": {
    "id": "v3ZIqDQqO9Dv",
    "pycharm": {
     "name": "#%% md\n"
    }
   },
   "source": [
    "Посчитайте точность на тестовой выборке:"
   ]
  },
  {
   "cell_type": "code",
   "execution_count": null,
   "metadata": {
    "id": "nNJizMkM_Auh",
    "pycharm": {
     "name": "#%%\n"
    }
   },
   "outputs": [],
   "source": [
    "# <your code here>"
   ]
  },
  {
   "cell_type": "markdown",
   "metadata": {
    "id": "KndehSCHO9Dv",
    "pycharm": {
     "name": "#%% md\n"
    }
   },
   "source": [
    "**Задание 4.1 (2 балла).** Изучите, какие еще способы аугментаций изображений представлены в <code>torchvision.transforms</code>. Выберите несколько из них, объясните, как они устроены, и обучите модель с ними (по отдельности и вместе). Удалось ли добиться улучшения качества на тестовой выборке?"
   ]
  },
  {
   "cell_type": "code",
   "execution_count": null,
   "metadata": {
    "id": "Np4rgvdZ_QRF",
    "pycharm": {
     "name": "#%%\n"
    }
   },
   "outputs": [],
   "source": [
    "# <your code here>"
   ]
  },
  {
   "cell_type": "markdown",
   "metadata": {
    "id": "4K-MptLiO9Dv",
    "pycharm": {
     "name": "#%% md\n"
    }
   },
   "source": [
    "Your answers here:"
   ]
  },
  {
   "cell_type": "markdown",
   "metadata": {
    "id": "HCENjLw5O9Dv",
    "pycharm": {
     "name": "#%% md\n"
    }
   },
   "source": [
    "## Бонус. Логирование в wandb (2 балла)"
   ]
  },
  {
   "cell_type": "markdown",
   "metadata": {
    "id": "xOyzc1mnO9Dv",
    "pycharm": {
     "name": "#%% md\n"
    }
   },
   "source": [
    "На практике специалиста по глубинному обучению часто встречаются ситуации, когда нейросеть учится на каком-то удаленном сервере. И обычно вам хочется отслеживать прогресс обучения, особенно когда время обучения модели исчисляется днями или неделями. Для таких целей существует несколько инструментов. Вероятно, самый популярный из них — [wandb](https://wandb.ai/site).\n",
    "\n",
    "Ваша задача состоит в том, чтобы разобраться как им пользоваться, и повторить задания 2.1 и 2.2 с его использованием. Обучение вы можете запускать в этом же ноутбуке, но теперь вам необходимо через wandb логировать значения функции потерь и точности на обучающей выборке и на валидационной. Результатом работы должны быть ваш код и публичная ссылка на страничку с графиками, идентичными графикам в задании 2.2."
   ]
  },
  {
   "cell_type": "code",
   "execution_count": null,
   "metadata": {
    "id": "m5gSTLAr_QS4",
    "pycharm": {
     "name": "#%%\n"
    }
   },
   "outputs": [],
   "source": [
    "# <your code here>"
   ]
  }
 ],
 "metadata": {
  "accelerator": "GPU",
  "colab": {
   "collapsed_sections": [],
   "provenance": []
  },
  "kernelspec": {
   "display_name": "Python 3",
   "language": "python",
   "name": "python3"
  },
  "language_info": {
   "codemirror_mode": {
    "name": "ipython",
    "version": 3
   },
   "file_extension": ".py",
   "mimetype": "text/x-python",
   "name": "python",
   "nbconvert_exporter": "python",
   "pygments_lexer": "ipython3",
   "version": "3.12.4"
  },
  "widgets": {
   "application/vnd.jupyter.widget-state+json": {
    "0fee9f5b7bdb4129a71ef0cfe9d3b1fa": {
     "model_module": "@jupyter-widgets/controls",
     "model_module_version": "1.5.0",
     "model_name": "ProgressStyleModel",
     "state": {
      "_model_module": "@jupyter-widgets/controls",
      "_model_module_version": "1.5.0",
      "_model_name": "ProgressStyleModel",
      "_view_count": null,
      "_view_module": "@jupyter-widgets/base",
      "_view_module_version": "1.2.0",
      "_view_name": "StyleView",
      "bar_color": null,
      "description_width": ""
     }
    },
    "17b2be81159e41f1a5c6bb966516572e": {
     "model_module": "@jupyter-widgets/base",
     "model_module_version": "1.2.0",
     "model_name": "LayoutModel",
     "state": {
      "_model_module": "@jupyter-widgets/base",
      "_model_module_version": "1.2.0",
      "_model_name": "LayoutModel",
      "_view_count": null,
      "_view_module": "@jupyter-widgets/base",
      "_view_module_version": "1.2.0",
      "_view_name": "LayoutView",
      "align_content": null,
      "align_items": null,
      "align_self": null,
      "border": null,
      "bottom": null,
      "display": null,
      "flex": null,
      "flex_flow": null,
      "grid_area": null,
      "grid_auto_columns": null,
      "grid_auto_flow": null,
      "grid_auto_rows": null,
      "grid_column": null,
      "grid_gap": null,
      "grid_row": null,
      "grid_template_areas": null,
      "grid_template_columns": null,
      "grid_template_rows": null,
      "height": null,
      "justify_content": null,
      "justify_items": null,
      "left": null,
      "margin": null,
      "max_height": null,
      "max_width": null,
      "min_height": null,
      "min_width": null,
      "object_fit": null,
      "object_position": null,
      "order": null,
      "overflow": null,
      "overflow_x": null,
      "overflow_y": null,
      "padding": null,
      "right": null,
      "top": null,
      "visibility": null,
      "width": null
     }
    },
    "18b20091dbf64b129824a8fb3266e3c0": {
     "model_module": "@jupyter-widgets/controls",
     "model_module_version": "1.5.0",
     "model_name": "DescriptionStyleModel",
     "state": {
      "_model_module": "@jupyter-widgets/controls",
      "_model_module_version": "1.5.0",
      "_model_name": "DescriptionStyleModel",
      "_view_count": null,
      "_view_module": "@jupyter-widgets/base",
      "_view_module_version": "1.2.0",
      "_view_name": "StyleView",
      "description_width": ""
     }
    },
    "22bb21a6c57a413fb7374efe31349e6e": {
     "model_module": "@jupyter-widgets/base",
     "model_module_version": "1.2.0",
     "model_name": "LayoutModel",
     "state": {
      "_model_module": "@jupyter-widgets/base",
      "_model_module_version": "1.2.0",
      "_model_name": "LayoutModel",
      "_view_count": null,
      "_view_module": "@jupyter-widgets/base",
      "_view_module_version": "1.2.0",
      "_view_name": "LayoutView",
      "align_content": null,
      "align_items": null,
      "align_self": null,
      "border": null,
      "bottom": null,
      "display": null,
      "flex": null,
      "flex_flow": null,
      "grid_area": null,
      "grid_auto_columns": null,
      "grid_auto_flow": null,
      "grid_auto_rows": null,
      "grid_column": null,
      "grid_gap": null,
      "grid_row": null,
      "grid_template_areas": null,
      "grid_template_columns": null,
      "grid_template_rows": null,
      "height": null,
      "justify_content": null,
      "justify_items": null,
      "left": null,
      "margin": null,
      "max_height": null,
      "max_width": null,
      "min_height": null,
      "min_width": null,
      "object_fit": null,
      "object_position": null,
      "order": null,
      "overflow": null,
      "overflow_x": null,
      "overflow_y": null,
      "padding": null,
      "right": null,
      "top": null,
      "visibility": null,
      "width": null
     }
    },
    "7d238166caf64537ad9aa2040dcdc1ec": {
     "model_module": "@jupyter-widgets/controls",
     "model_module_version": "1.5.0",
     "model_name": "DescriptionStyleModel",
     "state": {
      "_model_module": "@jupyter-widgets/controls",
      "_model_module_version": "1.5.0",
      "_model_name": "DescriptionStyleModel",
      "_view_count": null,
      "_view_module": "@jupyter-widgets/base",
      "_view_module_version": "1.2.0",
      "_view_name": "StyleView",
      "description_width": ""
     }
    },
    "95c5696493db48738dbdc9940acec1d8": {
     "model_module": "@jupyter-widgets/controls",
     "model_module_version": "1.5.0",
     "model_name": "HTMLModel",
     "state": {
      "_dom_classes": [],
      "_model_module": "@jupyter-widgets/controls",
      "_model_module_version": "1.5.0",
      "_model_name": "HTMLModel",
      "_view_count": null,
      "_view_module": "@jupyter-widgets/controls",
      "_view_module_version": "1.5.0",
      "_view_name": "HTMLView",
      "description": "",
      "description_tooltip": null,
      "layout": "IPY_MODEL_22bb21a6c57a413fb7374efe31349e6e",
      "placeholder": "​",
      "style": "IPY_MODEL_18b20091dbf64b129824a8fb3266e3c0",
      "value": "100%"
     }
    },
    "9bad0d6a00c14229b0d776a2cfe15090": {
     "model_module": "@jupyter-widgets/base",
     "model_module_version": "1.2.0",
     "model_name": "LayoutModel",
     "state": {
      "_model_module": "@jupyter-widgets/base",
      "_model_module_version": "1.2.0",
      "_model_name": "LayoutModel",
      "_view_count": null,
      "_view_module": "@jupyter-widgets/base",
      "_view_module_version": "1.2.0",
      "_view_name": "LayoutView",
      "align_content": null,
      "align_items": null,
      "align_self": null,
      "border": null,
      "bottom": null,
      "display": null,
      "flex": null,
      "flex_flow": null,
      "grid_area": null,
      "grid_auto_columns": null,
      "grid_auto_flow": null,
      "grid_auto_rows": null,
      "grid_column": null,
      "grid_gap": null,
      "grid_row": null,
      "grid_template_areas": null,
      "grid_template_columns": null,
      "grid_template_rows": null,
      "height": null,
      "justify_content": null,
      "justify_items": null,
      "left": null,
      "margin": null,
      "max_height": null,
      "max_width": null,
      "min_height": null,
      "min_width": null,
      "object_fit": null,
      "object_position": null,
      "order": null,
      "overflow": null,
      "overflow_x": null,
      "overflow_y": null,
      "padding": null,
      "right": null,
      "top": null,
      "visibility": null,
      "width": null
     }
    },
    "aa9da821ba0c42b5b051355e50e691f0": {
     "model_module": "@jupyter-widgets/controls",
     "model_module_version": "1.5.0",
     "model_name": "HBoxModel",
     "state": {
      "_dom_classes": [],
      "_model_module": "@jupyter-widgets/controls",
      "_model_module_version": "1.5.0",
      "_model_name": "HBoxModel",
      "_view_count": null,
      "_view_module": "@jupyter-widgets/controls",
      "_view_module_version": "1.5.0",
      "_view_name": "HBoxView",
      "box_style": "",
      "children": [
       "IPY_MODEL_95c5696493db48738dbdc9940acec1d8",
       "IPY_MODEL_fe515a1f743f49d0b251b43919d52a8e",
       "IPY_MODEL_f4f339c969fd4e21bc683ecb2567897b"
      ],
      "layout": "IPY_MODEL_17b2be81159e41f1a5c6bb966516572e"
     }
    },
    "cd991379661b4b4ab405bf66f75c6834": {
     "model_module": "@jupyter-widgets/base",
     "model_module_version": "1.2.0",
     "model_name": "LayoutModel",
     "state": {
      "_model_module": "@jupyter-widgets/base",
      "_model_module_version": "1.2.0",
      "_model_name": "LayoutModel",
      "_view_count": null,
      "_view_module": "@jupyter-widgets/base",
      "_view_module_version": "1.2.0",
      "_view_name": "LayoutView",
      "align_content": null,
      "align_items": null,
      "align_self": null,
      "border": null,
      "bottom": null,
      "display": null,
      "flex": null,
      "flex_flow": null,
      "grid_area": null,
      "grid_auto_columns": null,
      "grid_auto_flow": null,
      "grid_auto_rows": null,
      "grid_column": null,
      "grid_gap": null,
      "grid_row": null,
      "grid_template_areas": null,
      "grid_template_columns": null,
      "grid_template_rows": null,
      "height": null,
      "justify_content": null,
      "justify_items": null,
      "left": null,
      "margin": null,
      "max_height": null,
      "max_width": null,
      "min_height": null,
      "min_width": null,
      "object_fit": null,
      "object_position": null,
      "order": null,
      "overflow": null,
      "overflow_x": null,
      "overflow_y": null,
      "padding": null,
      "right": null,
      "top": null,
      "visibility": null,
      "width": null
     }
    },
    "f4f339c969fd4e21bc683ecb2567897b": {
     "model_module": "@jupyter-widgets/controls",
     "model_module_version": "1.5.0",
     "model_name": "HTMLModel",
     "state": {
      "_dom_classes": [],
      "_model_module": "@jupyter-widgets/controls",
      "_model_module_version": "1.5.0",
      "_model_name": "HTMLModel",
      "_view_count": null,
      "_view_module": "@jupyter-widgets/controls",
      "_view_module_version": "1.5.0",
      "_view_name": "HTMLView",
      "description": "",
      "description_tooltip": null,
      "layout": "IPY_MODEL_cd991379661b4b4ab405bf66f75c6834",
      "placeholder": "​",
      "style": "IPY_MODEL_7d238166caf64537ad9aa2040dcdc1ec",
      "value": " 170498071/170498071 [00:13&lt;00:00, 13339884.37it/s]"
     }
    },
    "fe515a1f743f49d0b251b43919d52a8e": {
     "model_module": "@jupyter-widgets/controls",
     "model_module_version": "1.5.0",
     "model_name": "FloatProgressModel",
     "state": {
      "_dom_classes": [],
      "_model_module": "@jupyter-widgets/controls",
      "_model_module_version": "1.5.0",
      "_model_name": "FloatProgressModel",
      "_view_count": null,
      "_view_module": "@jupyter-widgets/controls",
      "_view_module_version": "1.5.0",
      "_view_name": "ProgressView",
      "bar_style": "success",
      "description": "",
      "description_tooltip": null,
      "layout": "IPY_MODEL_9bad0d6a00c14229b0d776a2cfe15090",
      "max": 170498071,
      "min": 0,
      "orientation": "horizontal",
      "style": "IPY_MODEL_0fee9f5b7bdb4129a71ef0cfe9d3b1fa",
      "value": 170498071
     }
    }
   }
  }
 },
 "nbformat": 4,
 "nbformat_minor": 1
}
